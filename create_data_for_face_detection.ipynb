{
 "cells": [
  {
   "cell_type": "markdown",
   "metadata": {},
   "source": [
    "Create images folder "
   ]
  },
  {
   "cell_type": "code",
   "execution_count": 2,
   "metadata": {},
   "outputs": [],
   "source": [
    "import os\n",
    "import shutil\n",
    "import cv2\n",
    "from scipy.io import loadmat"
   ]
  },
  {
   "cell_type": "code",
   "execution_count": 3,
   "metadata": {},
   "outputs": [],
   "source": [
    "labels_path = 'labels'\n",
    "images_path = 'images'"
   ]
  },
  {
   "cell_type": "markdown",
   "metadata": {},
   "source": [
    "create labels for images"
   ]
  },
  {
   "cell_type": "code",
   "execution_count": 15,
   "metadata": {},
   "outputs": [
    {
     "ename": "IndexError",
     "evalue": "index 811 is out of bounds for axis 0 with size 811",
     "output_type": "error",
     "traceback": [
      "\u001b[1;31m---------------------------------------------------------------------------\u001b[0m",
      "\u001b[1;31mIndexError\u001b[0m                                Traceback (most recent call last)",
      "Cell \u001b[1;32mIn[15], line 4\u001b[0m\n\u001b[0;32m      1\u001b[0m data \u001b[38;5;241m=\u001b[39m loadmat(\u001b[38;5;124m'\u001b[39m\u001b[38;5;124mbounding_boxes\u001b[39m\u001b[38;5;130;01m\\\\\u001b[39;00m\u001b[38;5;124mBounding Boxes\u001b[39m\u001b[38;5;130;01m\\\\\u001b[39;00m\u001b[38;5;124mbounding_boxes_lfpw_trainset.mat\u001b[39m\u001b[38;5;124m'\u001b[39m)[\u001b[38;5;124m'\u001b[39m\u001b[38;5;124mbounding_boxes\u001b[39m\u001b[38;5;124m'\u001b[39m]\n\u001b[0;32m      3\u001b[0m \u001b[38;5;28;01mfor\u001b[39;00m i \u001b[38;5;129;01min\u001b[39;00m \u001b[38;5;28mrange\u001b[39m(\u001b[38;5;241m2000\u001b[39m):\n\u001b[1;32m----> 4\u001b[0m     filename \u001b[38;5;241m=\u001b[39m \u001b[43mdata\u001b[49m\u001b[43m[\u001b[49m\u001b[38;5;241;43m0\u001b[39;49m\u001b[43m]\u001b[49m\u001b[43m[\u001b[49m\u001b[43mi\u001b[49m\u001b[43m]\u001b[49m[\u001b[38;5;241m0\u001b[39m][\u001b[38;5;241m0\u001b[39m][\u001b[38;5;241m0\u001b[39m][\u001b[38;5;241m0\u001b[39m]\n\u001b[0;32m      5\u001b[0m     \u001b[38;5;66;03m#copy images to folder\u001b[39;00m\n\u001b[0;32m      6\u001b[0m     shutil\u001b[38;5;241m.\u001b[39mcopy(os\u001b[38;5;241m.\u001b[39mpath\u001b[38;5;241m.\u001b[39mjoin(\u001b[38;5;124m'\u001b[39m\u001b[38;5;124mibug_300W_large_face_landmark_dataset\u001b[39m\u001b[38;5;130;01m\\\\\u001b[39;00m\u001b[38;5;124mcontent\u001b[39m\u001b[38;5;130;01m\\\\\u001b[39;00m\u001b[38;5;124mibug_300W_large_face_landmark_dataset\u001b[39m\u001b[38;5;130;01m\\\\\u001b[39;00m\u001b[38;5;124mlfpw\u001b[39m\u001b[38;5;130;01m\\\\\u001b[39;00m\u001b[38;5;124mtrainset\u001b[39m\u001b[38;5;124m'\u001b[39m, filename), images_path)\n",
      "\u001b[1;31mIndexError\u001b[0m: index 811 is out of bounds for axis 0 with size 811"
     ]
    }
   ],
   "source": [
    "\n",
    "data = loadmat('bounding_boxes\\\\Bounding Boxes\\\\bounding_boxes_lfpw_trainset.mat')['bounding_boxes']\n",
    "\n",
    "for i in range(2000):\n",
    "    filename = data[0][i][0][0][0][0]\n",
    "    #copy images to folder\n",
    "    shutil.copy(os.path.join('ibug_300W_large_face_landmark_dataset\\\\content\\\\ibug_300W_large_face_landmark_dataset\\\\lfpw\\\\trainset', filename), images_path)\n",
    "    #copy mirror  images  to folder\n",
    "    shutil.copy(os.path.join('ibug_300W_large_face_landmark_dataset\\\\content\\\\ibug_300W_large_face_landmark_dataset\\\\lfpw\\\\trainset', filename.replace('.png', '_mirror') + '.jpg'), images_path)\n",
    "    img = cv2.imread(os.path.join(images_path, str(filename)))    \n",
    "    img_height = img.shape[0]\n",
    "    img_width = img.shape[1]\n",
    "\n",
    "    centerX = (data[0][i][0][0][2][0][2] + data[0][i][0][0][2][0][0]) / 2 /img_width\n",
    "    centerY = (data[0][i][0][0][2][0][3] + data[0][i][0][0][2][0][1]) / 2 / img_height\n",
    "    obj_width = (data[0][i][0][0][2][0][2] - data[0][i][0][0][2][0][0]) / img_width\n",
    "    obj_height = (data[0][i][0][0][2][0][3] - data[0][i][0][0][2][0][1]) / img_height\n",
    "\n",
    "    centerX_mirror = (img_width - (data[0][i][0][0][2][0][2] + data[0][i][0][0][2][0][0]) / 2) / img_width\n",
    "\n",
    "    #write labels for images\n",
    "    filename = filename.replace('.png', '') + '.txt'\n",
    "    with open (os.path.join(labels_path, filename), 'w') as  file:\n",
    "        print('0', end=' ', file=file)\n",
    "        print(centerX, end=' ', file=file)\n",
    "        print(centerY, end=' ', file=file)\n",
    "        print(obj_width, end=' ', file=file)\n",
    "        print(obj_height, end='', file=file)\n",
    "\n",
    "    #write label for mirror images\n",
    "    filename_mirror = filename.replace('.txt', '_mirror.txt')\n",
    "    with open (os.path.join(labels_path, filename_mirror), 'w') as  file:\n",
    "        print('0', end=' ', file=file)\n",
    "        print(centerX_mirror, end=' ', file=file)\n",
    "        print(centerY, end=' ', file=file)\n",
    "        print(obj_width, end=' ', file=file)\n",
    "        print(obj_height, end='', file=file)\n",
    "        \n",
    "\n"
   ]
  },
  {
   "cell_type": "markdown",
   "metadata": {},
   "source": [
    "Resize Image"
   ]
  },
  {
   "cell_type": "code",
   "execution_count": 16,
   "metadata": {},
   "outputs": [
    {
     "name": "stdout",
     "output_type": "stream",
     "text": [
      "Quá trình thay đổi kích thước ảnh hoàn tất.\n"
     ]
    }
   ],
   "source": [
    "import os\n",
    "import cv2\n",
    "\n",
    "# Đường dẫn đến thư mục chứa ảnh\n",
    "folder_path = 'images'\n",
    "\n",
    "# Kích thước mới bạn muốn đặt cho ảnh (ở đây là 300x200 pixels)\n",
    "new_size = (640, 640)\n",
    "\n",
    "# Lặp qua tất cả các file trong thư mục\n",
    "for filename in os.listdir(folder_path):\n",
    "    if filename.endswith(('.jpg', '.jpeg', '.png')):  # Chỉ xử lý các file hình ảnh\n",
    "        # Đường dẫn đầy đủ đến file ảnh\n",
    "        image_path = os.path.join(folder_path, filename)\n",
    "\n",
    "        # Đọc ảnh từ file\n",
    "        image = cv2.imread(image_path)\n",
    "\n",
    "        # Thay đổi kích thước ảnh\n",
    "        resized_image = cv2.resize(image, new_size)\n",
    "\n",
    "        # Lưu ảnh đã thay đổi kích thước vào thư mục mới\n",
    "        new_image_path = os.path.join(folder_path, filename)\n",
    "        cv2.imwrite(new_image_path, resized_image)\n",
    "\n",
    "print(\"Quá trình thay đổi kích thước ảnh hoàn tất.\")"
   ]
  },
  {
   "cell_type": "code",
   "execution_count": 4,
   "metadata": {},
   "outputs": [],
   "source": [
    "images_destination = 'augmented_face_dataset\\\\valid\\\\images'\n",
    "labels_destination = 'augmented_face_dataset\\\\valid\\\\labels'\n",
    "i = 0\n",
    "for filename in os.listdir('augmented_face_dataset\\\\train\\\\images'):\n",
    "    if i == 1400:\n",
    "        break\n",
    "    if filename.endswith(('.jpg')):\n",
    "        shutil.move(os.path.join('augmented_face_dataset\\\\train\\\\images', filename), images_destination)\n",
    "        shutil.move(os.path.join('augmented_face_dataset\\\\train\\\\labels', filename.replace('.jpg', '.txt')), labels_destination)\n",
    "        i+=1\n",
    "    else:\n",
    "        shutil.move(os.path.join('augmented_face_dataset\\\\train\\\\images', filename), images_destination)\n",
    "        shutil.move(os.path.join('augmented_face_dataset\\\\train\\\\labels', filename.replace('.png', '.txt')), labels_destination)\n",
    "        i+=1"
   ]
  },
  {
   "cell_type": "markdown",
   "metadata": {},
   "source": []
  }
 ],
 "metadata": {
  "kernelspec": {
   "display_name": "Python 3",
   "language": "python",
   "name": "python3"
  },
  "language_info": {
   "codemirror_mode": {
    "name": "ipython",
    "version": 3
   },
   "file_extension": ".py",
   "mimetype": "text/x-python",
   "name": "python",
   "nbconvert_exporter": "python",
   "pygments_lexer": "ipython3",
   "version": "3.11.7"
  }
 },
 "nbformat": 4,
 "nbformat_minor": 2
}
